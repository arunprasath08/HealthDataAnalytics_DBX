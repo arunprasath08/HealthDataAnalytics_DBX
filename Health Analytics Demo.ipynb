{
 "cells": [
  {
   "cell_type": "markdown",
   "metadata": {
    "application/vnd.databricks.v1+cell": {
     "cellMetadata": {},
     "inputWidgets": {},
     "nuid": "20f8dc15-060f-400f-ae77-a52246c38fb2",
     "showTitle": false,
     "tableResultSettingsMap": {},
     "title": ""
    }
   },
   "source": [
    "# 🏗️  Data Lakehouse for Health Data analytics with Apple Health Data\n",
    "\n",
    "**Building analytics and deriving insights using production-grade data architecture using your personal health data**\n",
    "\n",
    "## 🏛️ Lakehouse Architecture Following Databricks Reference\n",
    "\n",
    "This project implements the **Medallion Architecture** with **Unity Catalog integration**:\n",
    "\n",
    "```\n",
    "Data Sources → Object Storage → 🥉 Bronze → 🥈 Silver → 🥇 Gold → Consumption Layer\n",
    "(Apple Health)   (Workspace)    (Delta)    (Delta)    (Delta)  (Analytics/ML)\n",
    "```\n",
    "\n",
    "### Architecture Components I've Build:\n",
    "- **📱 Data Sources**: Apple Health XML exports (600K+ records)\n",
    "- **🗄️ Object Storage**: Databricks workspace file system  \n",
    "- **🔺 Delta Tables**: ACID transactions across Bronze/Silver/Gold layers\n",
    "- **🏛️ Unity Catalog**: Centralized metadata and governance (3-level namespace)\n",
    "- **📊 Consumption Layer**: Data Marts, Analytics, ML-ready features\n",
    "\n",
    "### Why this matters:\n",
    "Same patterns used by **Netflix**, **Spotify**, **Airbnb** for processing billions of records"
   ]
  },
  {
   "cell_type": "markdown",
   "metadata": {
    "application/vnd.databricks.v1+cell": {
     "cellMetadata": {},
     "inputWidgets": {},
     "nuid": "776972f4-f9ff-4562-b0e1-89385a87ab02",
     "showTitle": false,
     "tableResultSettingsMap": {},
     "title": ""
    }
   },
   "source": [
    "## 📚 Part 1: Why Lakehouse Architecture?\n",
    "\n",
    "### The Evolution of Data Architecture\n",
    "\n",
    "| Era | Technology | Strengths | Limitations |\n",
    "|-----|------------|-----------|-------------|\n",
    "| **1980s-2000s** | Databases | ACID transactions | Can't handle analytics scale |\n",
    "| **2000s-2010s** | Data Warehouses | BI & analytics | Expensive, rigid schemas |\n",
    "| **2010s** | Data Lakes | Store everything cheaply | Become \"data swamps\" |\n",
    "| **2020s+** | **Lakehouses** | **Best of both worlds** | **Modern solution** |\n",
    "\n",
    "### Why Your Apple Health Data Needs a Lakehouse:\n",
    "- **Variety**: XML, JSON, time series data\n",
    "- **Volume**: Years of minute-by-minute measurements  \n",
    "- **Schema Evolution**: Apple adds new health metrics over time\n"
   ]
  },
  {
   "cell_type": "markdown",
   "metadata": {
    "application/vnd.databricks.v1+cell": {
     "cellMetadata": {},
     "inputWidgets": {},
     "nuid": "f0ccf3e6-cf1e-405f-91f9-ef66c024bc3c",
     "showTitle": false,
     "tableResultSettingsMap": {},
     "title": ""
    }
   },
   "source": [
    "## 🏛️ Setup Unity Catalog Structure\n",
    "\n",
    "Unity Catalog provides a 3-level namespace (catalog.schema.table) for organizing and securing data assets.\n",
    "I created a catalog and schema structure for the Apple Health data.\n",
    "\n"
   ]
  },
  {
   "cell_type": "code",
   "execution_count": 0,
   "metadata": {
    "application/vnd.databricks.v1+cell": {
     "cellMetadata": {
      "byteLimit": 2048000,
      "implicitDf": true,
      "rowLimit": 10000
     },
     "inputWidgets": {},
     "nuid": "2e63ff69-1f08-41b7-9e84-92114a19169a",
     "showTitle": false,
     "tableResultSettingsMap": {},
     "title": ""
    }
   },
   "outputs": [],
   "source": [
    "%sql\n",
    "-- Unity Catalog Setup\n",
    "CREATE CATALOG IF NOT EXISTS health_data;\n",
    "CREATE SCHEMA IF NOT EXISTS health_data.bronze;\n",
    "CREATE SCHEMA IF NOT EXISTS health_data.silver; \n",
    "CREATE SCHEMA IF NOT EXISTS health_data.gold;\n",
    "\n",
    "CREATE VOLUME IF NOT EXISTS health_data.bronze.raw_files\n",
    "COMMENT 'Volume for raw health XML data files';\n",
    "\n",
    "USE health_data.bronze;\n",
    "\n",
    "-- Display the Unity Catalog structure \n",
    "SHOW SCHEMAS IN health_data;"
   ]
  },
  {
   "cell_type": "code",
   "execution_count": 0,
   "metadata": {
    "application/vnd.databricks.v1+cell": {
     "cellMetadata": {
      "byteLimit": 2048000,
      "rowLimit": 10000
     },
     "inputWidgets": {},
     "nuid": "dfc8996c-ea17-4932-bc5a-5691075a7cd1",
     "showTitle": false,
     "tableResultSettingsMap": {},
     "title": ""
    }
   },
   "outputs": [],
   "source": [
    "import shutil\n",
    "\n",
    "print(f\"✅ Spark {spark.version} ready for distributed processing!\")\n",
    "\n",
    "# Copying file to Unity Catalog Volume\n",
    "source_file = \"sample_export.xml\" #if you are using your export file replace this export.xml\n",
    "destination_file = \"/Volumes/health_data/bronze/raw_files/\"+source_file\n",
    "\n",
    "shutil.copy2(source_file, destination_file)"
   ]
  },
  {
   "cell_type": "markdown",
   "metadata": {
    "application/vnd.databricks.v1+cell": {
     "cellMetadata": {},
     "inputWidgets": {},
     "nuid": "74b0afb4-8ecf-45db-8142-221a4f647a5d",
     "showTitle": false,
     "tableResultSettingsMap": {},
     "title": ""
    }
   },
   "source": [
    "## 🥉 Bronze Layer: Raw Data Ingestion\n",
    "\n",
    "**Implementing the first stage of Medallion Architecture with Unity Catalog**\n",
    "\n",
    "```\n",
    "Apple Health XML → Object Storage → Unity Catalog (health_data.bronze.apple_health)\n",
    "```\n",
    "\n",
    "- **Purpose**: Store raw data exactly as received from source systems\n",
    "- **Format**: Delta Table with ACID transactions\n",
    "- **Governance**: Unity Catalog metadata management\n",
    "- **Features**: Audit trail, disaster recovery, time travel\n"
   ]
  },
  {
   "cell_type": "code",
   "execution_count": 0,
   "metadata": {
    "application/vnd.databricks.v1+cell": {
     "cellMetadata": {
      "byteLimit": 2048000,
      "rowLimit": 10000
     },
     "inputWidgets": {},
     "nuid": "a47917ca-45f0-4ada-905a-4cacdb8fe75b",
     "showTitle": false,
     "tableResultSettingsMap": {},
     "title": ""
    }
   },
   "outputs": [],
   "source": [
    "# Read XML from Unity Catalog Volume using Spark XML\n",
    "df_parsed = spark.read \\\n",
    "    .option(\"rowTag\", \"Record\") \\\n",
    "    .option(\"attributePrefix\", \"\") \\\n",
    "    .option(\"valueTag\", \"_VALUE\") \\\n",
    "    .option(\"inferSchema\", \"true\") \\\n",
    "    .option(\"mode\", \"PERMISSIVE\") \\\n",
    "    .format(\"xml\") \\\n",
    "    .load(destination_file)\n",
    "\n",
    "# Check total records parsed\n",
    "total_records = df_parsed.count()\n",
    "print(f\"Total records: {total_records:,}\")\n",
    "\n",
    "# Preview the data\n",
    "df_parsed.show(3, truncate=False)\n",
    "\n",
    "# Create temp view for SQL queries\n",
    "df_parsed.createOrReplaceTempView(\"raw_health_records\")\n",
    "\n",
    "# Display schema\n",
    "print(\"\\n📋 Final Schema:\")\n",
    "df_parsed.printSchema()"
   ]
  },
  {
   "cell_type": "code",
   "execution_count": 0,
   "metadata": {
    "application/vnd.databricks.v1+cell": {
     "cellMetadata": {
      "byteLimit": 2048000,
      "rowLimit": 10000
     },
     "inputWidgets": {},
     "nuid": "a80f9b0e-a175-4faf-aa54-88622a0f62d4",
     "showTitle": false,
     "tableResultSettingsMap": {},
     "title": ""
    }
   },
   "outputs": [],
   "source": [
    "# Transform raw data into Bronze Delta Table with metadata\n",
    "# Create Bronze table with additional metadata columns\n",
    "\n",
    "bronze_df = spark.sql(f\"\"\"\n",
    "    SELECT\n",
    "        *,\n",
    "        current_timestamp() AS ingestion_timestamp,\n",
    "        'export.xml' AS source_file,\n",
    "        'bronze' AS layer,\n",
    "        'Apple Health' AS source_system,\n",
    "        {total_records} AS total_records_in_file\n",
    "    FROM raw_health_records\n",
    "\"\"\")\n",
    "\n",
    "print(f\"Bronze table will contain {bronze_df.count():,} records\")\n",
    "\n",
    "# Write to Delta Lake table in Unity Catalog\n",
    "bronze_df.write \\\n",
    "    .format(\"delta\") \\\n",
    "    .mode(\"overwrite\") \\\n",
    "    .option(\"overwriteSchema\", \"true\") \\\n",
    "    .saveAsTable(\"health_data.bronze.apple_health\")\n",
    "\n",
    "print(\"✅ Bronze Delta table created: health_data.bronze.apple_health\")"
   ]
  },
  {
   "cell_type": "markdown",
   "metadata": {
    "application/vnd.databricks.v1+cell": {
     "cellMetadata": {},
     "inputWidgets": {},
     "nuid": "b30f83a4-2571-4307-84ac-e64d2107aa3c",
     "showTitle": false,
     "tableResultSettingsMap": {},
     "title": ""
    }
   },
   "source": [
    "### Bronze Layer Metadata and Documentation\n",
    "\n",
    "Adding table properties and comments improves discoverability and governance in Unity Catalog.\n"
   ]
  },
  {
   "cell_type": "code",
   "execution_count": 0,
   "metadata": {
    "application/vnd.databricks.v1+cell": {
     "cellMetadata": {
      "byteLimit": 2048000,
      "rowLimit": 10000
     },
     "inputWidgets": {},
     "nuid": "72c78908-a6a2-424a-9697-d536483c77aa",
     "showTitle": false,
     "tableResultSettingsMap": {},
     "title": ""
    }
   },
   "outputs": [],
   "source": [
    "# Add table properties for optimization and governance\n",
    "spark.sql(\"\"\"\n",
    "    ALTER TABLE health_data.bronze.apple_health \n",
    "    SET TBLPROPERTIES (\n",
    "        'delta.autoOptimize.optimizeWrite' = 'true',\n",
    "        'delta.autoOptimize.autoCompact' = 'true',\n",
    "        'description' = 'Raw Apple Health data ingested from XML export file'\n",
    "    )\n",
    "\"\"\")\n",
    "\n",
    "# Add column descriptions for data governance\n",
    "column_comments = [\n",
    "    (\"type\", \"Health metric type identifier from Apple Health\"),\n",
    "    (\"value\", \"Raw measurement value\"),\n",
    "    (\"unit\", \"Unit of measurement\"),\n",
    "    (\"sourceName\", \"Source application or device name\"),\n",
    "    (\"startDate\", \"Start timestamp of the health measurement\"),\n",
    "    (\"endDate\", \"End timestamp of the health measurement\"),\n",
    "    (\"creationDate\", \"When the record was created in Apple Health\"),\n",
    "    (\"ingestion_timestamp\", \"When this record was ingested into the lakehouse\"),\n",
    "    (\"source_file\", \"Original source file name\"),\n",
    "    (\"layer\", \"Medallion architecture layer designation\"),\n",
    "    (\"source_system\", \"Source system identifier\"),\n",
    "    (\"total_records_in_file\", \"Total number of records in the source file\")\n",
    "]\n",
    "\n",
    "for column, description in column_comments:\n",
    "    spark.sql(f\"\"\"\n",
    "        COMMENT ON COLUMN health_data.bronze.apple_health.{column} \n",
    "        IS '{description}'\n",
    "    \"\"\")\n",
    "\n",
    "print(\"✅ Table properties and column comments added\")"
   ]
  },
  {
   "cell_type": "code",
   "execution_count": 0,
   "metadata": {
    "application/vnd.databricks.v1+cell": {
     "cellMetadata": {
      "byteLimit": 2048000,
      "implicitDf": true,
      "rowLimit": 10000
     },
     "inputWidgets": {},
     "nuid": "4dd3f6db-b75b-480c-bcb2-0b7091059a8c",
     "showTitle": false,
     "tableResultSettingsMap": {},
     "title": ""
    }
   },
   "outputs": [],
   "source": [
    "%sql\n",
    "-- Analyze Bronze layer with SQL\n",
    "    SELECT \n",
    "        type, \n",
    "        COUNT(*) as record_count,\n",
    "        COUNT(DISTINCT sourceName) as source_count,\n",
    "        MIN(startDate) as earliest_date,\n",
    "        MAX(endDate) as latest_date\n",
    "    FROM health_data.bronze.apple_health\n",
    "    GROUP BY type\n",
    "    ORDER BY record_count DESC\n",
    "    LIMIT 10"
   ]
  },
  {
   "cell_type": "markdown",
   "metadata": {
    "application/vnd.databricks.v1+cell": {
     "cellMetadata": {},
     "inputWidgets": {},
     "nuid": "7fe8a471-6fef-4f29-8abb-8d651e3fbdfa",
     "showTitle": false,
     "tableResultSettingsMap": {},
     "title": ""
    }
   },
   "source": [
    "## 🥈 Silver Layer: Data Cleaning & Validation\n",
    "\n",
    "**Implementing the refinement stage of Medallion Architecture with Unity Catalog**\n",
    "\n",
    "```\n",
    "Bronze Delta Table → Transform → Silver Delta Table\n",
    "health_data.bronze.apple_health → SQL transforms → health_data.silver.apple_health\n",
    "```\n",
    "\n",
    "- **Purpose**: Cleaned, validated, and enriched data\n",
    "- **Features**: Schema enforcement, data quality checks, business logic\n",
    "- **Format**: Optimized Delta Table with proper data types\n",
    "- **Consumers**: Data scientists, ML engineers, advanced analytics"
   ]
  },
  {
   "cell_type": "code",
   "execution_count": 0,
   "metadata": {
    "application/vnd.databricks.v1+cell": {
     "cellMetadata": {
      "byteLimit": 2048000,
      "implicitDf": true,
      "rowLimit": 10000
     },
     "inputWidgets": {},
     "nuid": "cd7070c3-ac74-44f6-be03-4e1ec67ba397",
     "showTitle": false,
     "tableResultSettingsMap": {},
     "title": ""
    }
   },
   "outputs": [],
   "source": [
    "%sql\n",
    "-- Transform Bronze to Silver layer with data quality and business logic\n",
    "CREATE OR REPLACE TABLE health_data.silver.apple_health AS\n",
    "SELECT\n",
    "    -- Core fields from bronze\n",
    "    type,\n",
    "    sourceName,\n",
    "    value,\n",
    "    unit,\n",
    "    startDate,\n",
    "    endDate,\n",
    "    creationDate,\n",
    "    \n",
    "    -- Parse timestamps with timezone\n",
    "    to_timestamp(startDate, 'yyyy-MM-dd HH:mm:ss ZZZ') AS start_timestamp,\n",
    "    to_timestamp(endDate, 'yyyy-MM-dd HH:mm:ss ZZZ') AS end_timestamp,\n",
    "    to_timestamp(creationDate, 'yyyy-MM-dd HH:mm:ss ZZZ') AS creation_timestamp,\n",
    "    \n",
    "    -- Validate and convert values\n",
    "    CASE \n",
    "        WHEN value RLIKE '^[0-9]+\\\\.?[0-9]*$' THEN CAST(value AS DOUBLE)\n",
    "        ELSE NULL\n",
    "    END AS numeric_value,\n",
    "    \n",
    "    -- Business categorization\n",
    "    CASE\n",
    "        WHEN type LIKE '%HeartRate%' THEN 'Vitals'\n",
    "        WHEN type LIKE '%StepCount%' THEN 'Activity'\n",
    "        WHEN type LIKE '%BodyMass%' THEN 'Body'\n",
    "        WHEN type LIKE '%Sleep%' THEN 'Sleep'\n",
    "        ELSE 'Other'\n",
    "    END AS metric_category,\n",
    "    \n",
    "    -- Clean metric name\n",
    "    regexp_replace(type, 'HKQuantityTypeIdentifier', '') AS metric_name,\n",
    "    \n",
    "    -- Data quality flags\n",
    "    CASE \n",
    "        WHEN value RLIKE '^[0-9]+\\\\.?[0-9]*$' THEN TRUE \n",
    "        ELSE FALSE\n",
    "    END AS has_valid_value,\n",
    "    \n",
    "    CASE \n",
    "        WHEN to_timestamp(startDate, 'yyyy-MM-dd HH:mm:ss ZZZ') IS NOT NULL THEN TRUE\n",
    "        ELSE FALSE\n",
    "    END AS has_valid_dates,\n",
    "    \n",
    "    -- Silver layer metadata\n",
    "    current_timestamp() AS processed_timestamp,\n",
    "    'silver' AS layer\n",
    "    \n",
    "FROM health_data.bronze.apple_health\n",
    "\n",
    "-- Keep only quality records\n",
    "WHERE \n",
    "    value RLIKE '^[0-9]+\\\\.?[0-9]*$' AND\n",
    "    to_timestamp(startDate, 'yyyy-MM-dd HH:mm:ss ZZZ') IS NOT NULL;"
   ]
  },
  {
   "cell_type": "code",
   "execution_count": 0,
   "metadata": {
    "application/vnd.databricks.v1+cell": {
     "cellMetadata": {
      "byteLimit": 2048000,
      "implicitDf": true,
      "rowLimit": 10000
     },
     "inputWidgets": {},
     "nuid": "4b42035b-4746-4af9-b1f0-2408fcec067e",
     "showTitle": false,
     "tableResultSettingsMap": {},
     "title": ""
    }
   },
   "outputs": [],
   "source": [
    "%sql\n",
    "SELECT \n",
    "    'Original' as table_source,\n",
    "    COUNT(*) as record_count,\n",
    "    COUNT(DISTINCT metric_category) as categories,\n",
    "    MIN(processed_timestamp) as earliest_process_time,\n",
    "    MAX(processed_timestamp) as latest_process_time\n",
    "FROM health_data.silver.apple_health;"
   ]
  },
  {
   "cell_type": "markdown",
   "metadata": {
    "application/vnd.databricks.v1+cell": {
     "cellMetadata": {},
     "inputWidgets": {},
     "nuid": "f0aab8a6-076d-400f-8dd2-e71ed6e2e02e",
     "showTitle": false,
     "tableResultSettingsMap": {},
     "title": ""
    }
   },
   "source": [
    "### Silver Layer Table Optimizations\n",
    "\n",
    "Delta Lake provides powerful optimizations for query performance and data management.\n"
   ]
  },
  {
   "cell_type": "code",
   "execution_count": 0,
   "metadata": {
    "application/vnd.databricks.v1+cell": {
     "cellMetadata": {
      "byteLimit": 2048000,
      "implicitDf": true,
      "rowLimit": 10000
     },
     "inputWidgets": {},
     "nuid": "2066bdc3-0cce-45f7-89eb-81ec4470a1b0",
     "showTitle": false,
     "tableResultSettingsMap": {},
     "title": ""
    }
   },
   "outputs": [],
   "source": [
    "%sql\n",
    "\n",
    "-- Optimize the Silver table for better query performance\n",
    "OPTIMIZE health_data.silver.apple_health\n",
    "ZORDER BY (start_timestamp, metric_category);\n",
    "\n",
    "-- Add table properties for governance\n",
    "ALTER TABLE health_data.silver.apple_health \n",
    "SET TBLPROPERTIES (\n",
    "    'delta.autoOptimize.optimizeWrite' = 'true',\n",
    "    'delta.autoOptimize.autoCompact' = 'true',\n",
    "    'delta.columnMapping.mode' = 'name',\n",
    "    'delta.minReaderVersion' = '2',\n",
    "    'delta.minWriterVersion' = '5',\n",
    "    'description' = 'Cleaned and validated Apple Health data with quality filters'\n",
    ");"
   ]
  },
  {
   "cell_type": "code",
   "execution_count": 0,
   "metadata": {
    "application/vnd.databricks.v1+cell": {
     "cellMetadata": {
      "byteLimit": 2048000,
      "implicitDf": true,
      "rowLimit": 10000
     },
     "inputWidgets": {},
     "nuid": "fb1f713d-f70e-4894-ae33-3f24e5899c8c",
     "showTitle": false,
     "tableResultSettingsMap": {},
     "title": ""
    }
   },
   "outputs": [],
   "source": [
    "%sql \n",
    "SELECT \n",
    "        metric_category,\n",
    "        metric_name,\n",
    "        COUNT(*) as record_count,\n",
    "        ROUND(AVG(numeric_value), 2) as avg_value,\n",
    "        ROUND(MIN(numeric_value), 2) as min_value,\n",
    "        ROUND(MAX(numeric_value), 2) as max_value,\n",
    "        SUM(CASE WHEN has_valid_value AND has_valid_dates THEN 1 ELSE 0 END) as valid_records,\n",
    "        COUNT(DISTINCT DATE(start_timestamp)) as unique_days\n",
    "    FROM health_data.silver.apple_health\n",
    "    GROUP BY metric_category, metric_name\n",
    "    ORDER BY metric_category, record_count DESC\n"
   ]
  },
  {
   "cell_type": "markdown",
   "metadata": {
    "application/vnd.databricks.v1+cell": {
     "cellMetadata": {},
     "inputWidgets": {},
     "nuid": "1288679c-6d3a-40ab-ab6b-7eb54599e6ba",
     "showTitle": false,
     "tableResultSettingsMap": {},
     "title": ""
    }
   },
   "source": [
    "## 🥇 Gold Layer: Analytics-Ready Data\n",
    "\n",
    "**Implementing the consumption stage of Medallion Architecture with Unity Catalog**\n",
    "\n",
    "```\n",
    "Silver Delta Table → Transform → Gold Delta Table → Consumption Layer\n",
    "health_data.silver.apple_health → SQL aggregations → health_data.gold.daily_health_summary\n",
    "```\n",
    "\n",
    "- **Purpose**: Business-ready aggregated data for analytics and ML\n",
    "- **Features**: Daily summaries, KPIs, optimized for query performance  \n",
    "- **Format**: Highly optimized Delta Table with business logic applied\n",
    "- **Consumers**: Business analysts, BI tools, ML models, applications"
   ]
  },
  {
   "cell_type": "code",
   "execution_count": 0,
   "metadata": {
    "application/vnd.databricks.v1+cell": {
     "cellMetadata": {
      "byteLimit": 2048000,
      "implicitDf": true,
      "rowLimit": 10000
     },
     "inputWidgets": {},
     "nuid": "20d40de5-9f5a-42f3-8f71-6adaa8411681",
     "showTitle": false,
     "tableResultSettingsMap": {},
     "title": ""
    }
   },
   "outputs": [],
   "source": [
    "%sql\n",
    "-- Create Gold layer: Daily health summaries with business intelligence\n",
    "CREATE OR REPLACE TABLE health_data.gold.daily_health_summary AS\n",
    "\n",
    "WITH daily_metrics AS (\n",
    "    SELECT\n",
    "        -- Date dimension\n",
    "        DATE(start_timestamp) AS activity_date,\n",
    "        metric_name,\n",
    "        metric_category,\n",
    "        unit,\n",
    "        \n",
    "        -- Core business aggregations\n",
    "        SUM(numeric_value) AS total_value,\n",
    "        AVG(numeric_value) AS avg_value,\n",
    "        MIN(numeric_value) AS min_value,\n",
    "        MAX(numeric_value) AS max_value,\n",
    "        COUNT(*) AS measurement_count,\n",
    "        \n",
    "        -- Data quality metrics\n",
    "        AVG(CASE WHEN has_valid_value AND has_valid_dates THEN 1.0 ELSE 0.0 END) AS quality_score,\n",
    "        \n",
    "        -- Business enrichment for analytics\n",
    "        CASE WHEN DAYOFWEEK(start_timestamp) IN (1, 7) THEN TRUE ELSE FALSE END AS is_weekend,\n",
    "        DAYOFWEEK(start_timestamp) AS day_of_week,\n",
    "        MONTH(start_timestamp) AS month,\n",
    "        YEAR(start_timestamp) AS year\n",
    "    \n",
    "    FROM health_data.silver.apple_health\n",
    "    WHERE start_timestamp IS NOT NULL\n",
    "    GROUP BY \n",
    "        DATE(start_timestamp),\n",
    "        metric_name,\n",
    "        metric_category,\n",
    "        unit,\n",
    "        CASE WHEN DAYOFWEEK(start_timestamp) IN (1, 7) THEN TRUE ELSE FALSE END,\n",
    "        DAYOFWEEK(start_timestamp),\n",
    "        MONTH(start_timestamp),\n",
    "        YEAR(start_timestamp)\n",
    ")\n",
    "\n",
    "SELECT\n",
    "    *,\n",
    "    \n",
    "    -- Evidence-based health scoring algorithm using medical guidelines\n",
    "    CASE\n",
    "        -- Heart Rate Scoring (based on American Heart Association guidelines)\n",
    "        WHEN metric_name = 'HeartRate' THEN\n",
    "            CASE \n",
    "                WHEN avg_value BETWEEN 60 AND 100 THEN 95  -- Normal range per AHA\n",
    "                WHEN avg_value BETWEEN 50 AND 59 THEN 90   -- Athletic/very fit range\n",
    "                WHEN avg_value BETWEEN 40 AND 49 THEN 85   -- Elite athlete range\n",
    "                WHEN avg_value BETWEEN 101 AND 110 THEN 80 -- Slightly elevated\n",
    "                WHEN avg_value BETWEEN 111 AND 120 THEN 70 -- Moderately elevated\n",
    "                ELSE 60  -- Outside healthy ranges\n",
    "            END\n",
    "            \n",
    "        -- Step Count Scoring (based on CDC and NIH research)\n",
    "        WHEN metric_name = 'StepCount' THEN\n",
    "            CASE \n",
    "                WHEN avg_value >= 10000 THEN 95   -- CDC optimal recommendation\n",
    "                WHEN avg_value >= 8000 THEN 90    -- NIH minimum for health benefits\n",
    "                WHEN avg_value >= 6000 THEN 85    -- Beneficial for 60+ adults\n",
    "                WHEN avg_value >= 4000 THEN 75    -- Some health benefits\n",
    "                WHEN avg_value >= 2000 THEN 65    -- Minimal activity\n",
    "                ELSE 50  -- Sedentary lifestyle risk\n",
    "            END\n",
    "            \n",
    "        -- Body Mass (weight in pounds) - contextual scoring\n",
    "        WHEN metric_name = 'BodyMass' THEN\n",
    "            CASE \n",
    "                -- Assuming average height ~5'6\" (67 inches), healthy BMI 18.5-24.9\n",
    "                WHEN avg_value BETWEEN 120 AND 165 THEN 90  -- Healthy BMI range\n",
    "                WHEN avg_value BETWEEN 110 AND 119 THEN 85  -- Lower healthy range\n",
    "                WHEN avg_value BETWEEN 166 AND 185 THEN 80  -- Overweight range\n",
    "                WHEN avg_value BETWEEN 100 AND 109 THEN 75  -- Underweight concern\n",
    "                WHEN avg_value BETWEEN 186 AND 220 THEN 70  -- Obesity class I\n",
    "                ELSE 60  -- Outside typical healthy ranges\n",
    "            END\n",
    "            \n",
    "        -- Distance metrics (walking/running in miles)\n",
    "        WHEN metric_name LIKE '%Distance%' THEN\n",
    "            CASE \n",
    "                WHEN avg_value >= 3.0 THEN 95     -- Excellent daily distance\n",
    "                WHEN avg_value >= 2.0 THEN 90     -- Good daily activity\n",
    "                WHEN avg_value >= 1.0 THEN 85     -- Moderate activity\n",
    "                WHEN avg_value >= 0.5 THEN 75     -- Some activity\n",
    "                ELSE 65  -- Limited mobility\n",
    "            END\n",
    "            \n",
    "        -- Energy expenditure (calories)\n",
    "        WHEN metric_name LIKE '%Energy%' THEN\n",
    "            CASE \n",
    "                WHEN avg_value >= 500 THEN 95     -- High activity level\n",
    "                WHEN avg_value >= 300 THEN 90     -- Moderate-high activity\n",
    "                WHEN avg_value >= 200 THEN 85     -- Moderate activity\n",
    "                WHEN avg_value >= 100 THEN 75     -- Light activity\n",
    "                ELSE 65  -- Minimal energy expenditure\n",
    "            END\n",
    "            \n",
    "        -- Sleep duration (assuming hours)\n",
    "        WHEN metric_name LIKE '%Sleep%' THEN\n",
    "            CASE \n",
    "                WHEN avg_value BETWEEN 7 AND 9 THEN 95   -- Optimal sleep per CDC\n",
    "                WHEN avg_value BETWEEN 6 AND 6.9 THEN 85 -- Acceptable minimum\n",
    "                WHEN avg_value BETWEEN 9.1 AND 10 THEN 85 -- Upper healthy range\n",
    "                WHEN avg_value BETWEEN 5 AND 5.9 THEN 70 -- Sleep deficient\n",
    "                ELSE 60  -- Severely inadequate sleep\n",
    "            END\n",
    "            \n",
    "        -- Default for other metrics\n",
    "        ELSE 80\n",
    "    END AS health_score,\n",
    "    \n",
    "    -- Operational monitoring\n",
    "    DATEDIFF(CURRENT_DATE(), activity_date) AS days_since_measurement,\n",
    "    \n",
    "    -- Trend categorization for business insights\n",
    "    CASE\n",
    "        WHEN avg_value > total_value / measurement_count * 1.2 THEN 'Significantly Above Average'\n",
    "        WHEN avg_value > total_value / measurement_count * 1.1 THEN 'Above Average'\n",
    "        WHEN avg_value < total_value / measurement_count * 0.8 THEN 'Significantly Below Average'\n",
    "        WHEN avg_value < total_value / measurement_count * 0.9 THEN 'Below Average'\n",
    "        ELSE 'Normal Range'\n",
    "    END AS performance_trend,\n",
    "    \n",
    "    -- Gold layer metadata\n",
    "    CURRENT_TIMESTAMP() AS processed_at,\n",
    "    'gold' AS layer\n",
    "    \n",
    "FROM daily_metrics;"
   ]
  },
  {
   "cell_type": "code",
   "execution_count": 0,
   "metadata": {
    "application/vnd.databricks.v1+cell": {
     "cellMetadata": {
      "byteLimit": 2048000,
      "implicitDf": true,
      "rowLimit": 10000
     },
     "inputWidgets": {},
     "nuid": "b3eb9bfa-0f86-4b5b-96ed-56c4a251c310",
     "showTitle": false,
     "tableResultSettingsMap": {},
     "title": ""
    }
   },
   "outputs": [],
   "source": [
    "\n",
    "%sql\n",
    "-- Optimize Gold table for analytical queries\n",
    "OPTIMIZE health_data.gold.daily_health_summary\n",
    "ZORDER BY (activity_date, metric_category);\n",
    "\n",
    "-- Add table properties for production governance\n",
    "ALTER TABLE health_data.gold.daily_health_summary \n",
    "SET TBLPROPERTIES (\n",
    "    'delta.autoOptimize.optimizeWrite' = 'true',\n",
    "    'delta.autoOptimize.autoCompact' = 'true',\n",
    "    'delta.columnMapping.mode' = 'name',\n",
    "    'description' = 'Daily health metrics aggregated from Apple Health data with evidence-based medical scoring'\n",
    ");"
   ]
  },
  {
   "cell_type": "code",
   "execution_count": 0,
   "metadata": {
    "application/vnd.databricks.v1+cell": {
     "cellMetadata": {
      "byteLimit": 2048000,
      "implicitDf": true,
      "rowLimit": 10000
     },
     "inputWidgets": {},
     "nuid": "b6092c30-2b6f-4c41-8198-8e50735c64c1",
     "showTitle": false,
     "tableResultSettingsMap": {},
     "title": ""
    }
   },
   "outputs": [],
   "source": [
    "%sql\n",
    "-- Top performing health metrics by medical scoring\n",
    "SELECT \n",
    "    'Top Health Metrics by Medical Score' AS analysis_type,\n",
    "    metric_name,\n",
    "    metric_category,\n",
    "    COUNT(*) AS total_days_tracked,\n",
    "    ROUND(AVG(avg_value), 1) AS typical_daily_value,\n",
    "    ROUND(AVG(health_score), 1) AS medical_score,\n",
    "    CASE \n",
    "        WHEN AVG(health_score) >= 90 THEN 'Excellent Health'\n",
    "        WHEN AVG(health_score) >= 80 THEN 'Good Health' \n",
    "        WHEN AVG(health_score) >= 70 THEN 'Fair Health'\n",
    "        ELSE 'Needs Improvement'\n",
    "    END AS health_grade,\n",
    "    COUNT(CASE WHEN performance_trend = 'Significantly Above Average' THEN 1 END) AS exceptional_days\n",
    "FROM health_data.gold.daily_health_summary\n",
    "WHERE activity_date >= '2024-01-01'\n",
    "GROUP BY metric_name, metric_category\n",
    "HAVING COUNT(*) >= 30  -- At least 30 days of data\n",
    "ORDER BY medical_score DESC, total_days_tracked DESC\n",
    "LIMIT 10;"
   ]
  },
  {
   "cell_type": "markdown",
   "metadata": {
    "application/vnd.databricks.v1+cell": {
     "cellMetadata": {},
     "inputWidgets": {},
     "nuid": "50505e47-6239-434c-87e2-d3fdff59482a",
     "showTitle": false,
     "tableResultSettingsMap": {},
     "title": ""
    }
   },
   "source": [
    "## 🔺 Delta Lake Advanced Features\n",
    "\n",
    "**Demonstrating Enterprise Lakehouse Capabilities**\n",
    "\n",
    "Delta Lake provides the reliability and performance features that make the lakehouse architecture possible:\n",
    "\n",
    "### 🕰️ Time Travel\n",
    "- Query any historical version of your data\n",
    "- Rollback bad deployments or data corruption\n",
    "- Audit trail for compliance and debugging\n",
    "\n",
    "### 🔄 Schema Evolution  \n",
    "- Add columns without breaking existing pipelines\n",
    "- Backward compatibility for all consumers\n",
    "- Gradual schema migration strategies\n",
    "\n",
    "### ⚡ Performance Optimization\n",
    "- Z-ordering for optimal query performance\n",
    "- Automatic file compaction and optimization\n",
    "- Efficient metadata management"
   ]
  },
  {
   "cell_type": "code",
   "execution_count": 0,
   "metadata": {
    "application/vnd.databricks.v1+cell": {
     "cellMetadata": {
      "byteLimit": 2048000,
      "implicitDf": true,
      "rowLimit": 10000
     },
     "inputWidgets": {},
     "nuid": "26e9f233-d64e-4e06-aa3a-0f62e480ddfd",
     "showTitle": false,
     "tableResultSettingsMap": {},
     "title": ""
    }
   },
   "outputs": [],
   "source": [
    "%sql\n",
    "--Demonstrate Delta Lake time travel capabilities with SQL\n",
    "DESCRIBE HISTORY health_data.gold.daily_health_summary"
   ]
  },
  {
   "cell_type": "code",
   "execution_count": 0,
   "metadata": {
    "application/vnd.databricks.v1+cell": {
     "cellMetadata": {
      "byteLimit": 2048000,
      "implicitDf": true,
      "rowLimit": 10000
     },
     "inputWidgets": {},
     "nuid": "12cab2b2-967f-4084-aa8b-49a1f038c35d",
     "showTitle": false,
     "tableResultSettingsMap": {},
     "title": ""
    }
   },
   "outputs": [],
   "source": [
    "%sql\n",
    "--Query a specific version using time travel\n",
    "SELECT COUNT(*) as record_count, 'Version 0' as version\n",
    "FROM health_data.gold.daily_health_summary VERSION AS OF 0\n",
    "\n",
    "UNION ALL\n",
    "\n",
    "SELECT COUNT(*) as record_count, 'Current Version' as version\n",
    "FROM health_data.gold.daily_health_summary\n",
    "\n"
   ]
  },
  {
   "cell_type": "markdown",
   "metadata": {
    "application/vnd.databricks.v1+cell": {
     "cellMetadata": {},
     "inputWidgets": {},
     "nuid": "71bb97d3-5da6-4340-afef-b26ae2ad3374",
     "showTitle": false,
     "tableResultSettingsMap": {},
     "title": ""
    }
   },
   "source": [
    "## 📊 Data Pipeline Performance Summary\n",
    "\n",
    "The medallion architecture transforms raw iPhone health data through **Bronze**, **Silver**, and **Gold** layers. This analysis shows how many records exist at each stage and demonstrates the efficiency of our data cleaning and aggregation processes in creating analytics-ready daily health summaries."
   ]
  },
  {
   "cell_type": "code",
   "execution_count": 0,
   "metadata": {
    "application/vnd.databricks.v1+cell": {
     "cellMetadata": {
      "byteLimit": 2048000,
      "rowLimit": 10000
     },
     "inputWidgets": {},
     "nuid": "cc69ab88-027e-42d2-bc18-6ff380888995",
     "showTitle": false,
     "tableResultSettingsMap": {},
     "title": ""
    }
   },
   "outputs": [],
   "source": [
    "import matplotlib.pyplot as plt\n",
    "import pandas as pd\n",
    "\n",
    "# Get record counts from each layer using correct table names\n",
    "bronze_count = spark.sql(\"SELECT COUNT(*) as count FROM health_data.bronze.apple_health\").collect()[0]['count']\n",
    "silver_count = spark.sql(\"SELECT COUNT(*) as count FROM health_data.silver.apple_health\").collect()[0]['count']\n",
    "gold_count = spark.sql(\"SELECT COUNT(*) as count FROM health_data.gold.daily_health_summary\").collect()[0]['count']\n",
    "\n",
    "# Create summary DataFrame\n",
    "pipeline_data = pd.DataFrame({\n",
    "    'Layer': ['Bronze\\n(Raw)', 'Silver\\n(Cleaned)', 'Gold\\n(Aggregated)'],\n",
    "    'Record_Count': [bronze_count, silver_count, gold_count],\n",
    "    'Colors': ['#CD7F32', '#C0C0C0', '#FFD700']  # Bronze, Silver, Gold colors\n",
    "})\n",
    "\n",
    "# Calculate data reduction percentages\n",
    "bronze_to_silver_reduction = ((bronze_count - silver_count) / bronze_count) * 100\n",
    "silver_to_gold_reduction = ((silver_count - gold_count) / silver_count) * 100\n",
    "total_reduction = ((bronze_count - gold_count) / bronze_count) * 100\n",
    "\n",
    "print(\"=\"*60)\n",
    "print(\"DATA PIPELINE PROCESSING SUMMARY\")\n",
    "print(\"=\"*60)\n",
    "\n",
    "fig, (ax1, ax2) = plt.subplots(1, 2, figsize=(15, 6))\n",
    "fig.suptitle('Health Data Pipeline: Bronze → Silver → Gold', fontsize=16, fontweight='bold')\n",
    "\n",
    "# 1. Bar Chart showing record counts\n",
    "bars = ax1.bar(pipeline_data['Layer'], pipeline_data['Record_Count'], \n",
    "               color=pipeline_data['Colors'], alpha=0.8, edgecolor='black', linewidth=2)\n",
    "\n",
    "# Add value labels on bars\n",
    "for bar, count in zip(bars, pipeline_data['Record_Count']):\n",
    "    height = bar.get_height()\n",
    "    ax1.text(bar.get_x() + bar.get_width()/2., height,\n",
    "             f'{count:,}', ha='center', va='bottom', fontweight='bold', fontsize=12)\n",
    "\n",
    "ax1.set_title('Record Counts by Pipeline Layer', fontweight='bold', fontsize=14)\n",
    "ax1.set_ylabel('Number of Records', fontweight='bold')\n",
    "ax1.grid(True, alpha=0.3, axis='y')\n",
    "\n",
    "# Format y-axis with commas\n",
    "ax1.yaxis.set_major_formatter(plt.FuncFormatter(lambda x, p: f'{x:,.0f}'))\n",
    "\n",
    "# 2. Data Flow Visualization\n",
    "ax2.axis('off')\n",
    "\n",
    "# Create flow diagram without emojis\n",
    "flow_text = f\"\"\"\n",
    "DATA TRANSFORMATION FLOW\n",
    "{'='*30}\n",
    "\n",
    "BRONZE LAYER (Raw Data)\n",
    "   Records: {bronze_count:,}\n",
    "   Source: iPhone Health Export XML\n",
    "   Status: Raw, unprocessed data\n",
    "\n",
    "        |  Data Cleaning & Validation\n",
    "        v  Removed: {bronze_count - silver_count:,} records ({bronze_to_silver_reduction:.1f}%)\n",
    "\n",
    "SILVER LAYER (Cleaned Data)  \n",
    "   Records: {silver_count:,}\n",
    "   Process: Cleaned, validated, standardized\n",
    "   Quality: High-quality individual records\n",
    "\n",
    "        |  Aggregation & Summarization  \n",
    "        v  Reduced: {silver_count - gold_count:,} records ({silver_to_gold_reduction:.1f}%)\n",
    "\n",
    "GOLD LAYER (Analytics-Ready)\n",
    "   Records: {gold_count:,}\n",
    "   Format: Daily summaries & health scores\n",
    "   Purpose: Dashboard & analytics\n",
    "\n",
    "OVERALL DATA REDUCTION: {total_reduction:.1f}%\n",
    "({bronze_count:,} -> {gold_count:,} records)\n",
    "\"\"\"\n",
    "\n",
    "ax2.text(0.05, 0.95, flow_text, transform=ax2.transAxes, fontsize=11,\n",
    "         verticalalignment='top',\n",
    "         bbox=dict(boxstyle=\"round,pad=0.8\", facecolor='lightblue', alpha=0.1))\n",
    "\n",
    "plt.tight_layout()\n",
    "plt.show()\n",
    "\n",
    "# Print detailed summary\n",
    "print(f\"PIPELINE STATISTICS:\")\n",
    "print(f\"   • Bronze Layer: {bronze_count:,} records\")\n",
    "print(f\"   • Silver Layer: {silver_count:,} records ({bronze_to_silver_reduction:.1f}% reduction)\")\n",
    "print(f\"   • Gold Layer: {gold_count:,} records ({silver_to_gold_reduction:.1f}% further reduction)\")\n",
    "print(f\"\\nTRANSFORMATION EFFICIENCY:\")\n",
    "print(f\"   • Data cleaning removed: {bronze_count - silver_count:,} invalid/duplicate records\")\n",
    "print(f\"   • Aggregation condensed: {silver_count - gold_count:,} records into daily summaries\")\n",
    "print(f\"   • Overall compression ratio: {bronze_count/gold_count:.1f}:1\")\n",
    "print(f\"   • Final dataset size: {total_reduction:.1f}% smaller than raw input\")"
   ]
  },
  {
   "cell_type": "markdown",
   "metadata": {
    "application/vnd.databricks.v1+cell": {
     "cellMetadata": {},
     "inputWidgets": {},
     "nuid": "2296ede2-cac0-4b78-b485-372a7bff80f3",
     "showTitle": false,
     "tableResultSettingsMap": {},
     "title": ""
    }
   },
   "source": [
    "## 📊 Health Data Analytics & Visualizations\n",
    "\n",
    "Now we can use our Gold layer data to create insightful visualizations and analyses."
   ]
  },
  {
   "cell_type": "code",
   "execution_count": 0,
   "metadata": {
    "application/vnd.databricks.v1+cell": {
     "cellMetadata": {
      "byteLimit": 2048000,
      "rowLimit": 10000
     },
     "inputWidgets": {},
     "nuid": "744ff907-c136-4f22-be4f-4418c6d5bb13",
     "showTitle": false,
     "tableResultSettingsMap": {},
     "title": ""
    }
   },
   "outputs": [],
   "source": [
    "import matplotlib.pyplot as plt\n",
    "import pandas as pd\n",
    "import numpy as np\n",
    "\n",
    "# Simple styling\n",
    "plt.style.use('default')\n",
    "COLORS = ['#2E86AB', '#A23B72', '#F18F01', '#C73E1D', '#85C1E9', '#90EE90']\n",
    "\n",
    "# Get clean health data\n",
    "health_summary = spark.sql(\"\"\"\n",
    "    SELECT activity_date, metric_name, metric_category, avg_value, health_score, \n",
    "           is_weekend, measurement_count, performance_trend, month\n",
    "    FROM health_data.gold.daily_health_summary\n",
    "    WHERE activity_date >= '2024-01-01' AND metric_category IN ('Vitals', 'Activity', 'Body')\n",
    "      AND health_score IS NOT NULL AND avg_value IS NOT NULL\n",
    "    ORDER BY activity_date\n",
    "\"\"\").toPandas()\n",
    "\n",
    "if len(health_summary) > 0:\n",
    "    health_summary = health_summary.dropna(subset=['health_score', 'avg_value'])\n",
    "    health_summary['activity_date'] = pd.to_datetime(health_summary['activity_date'])\n",
    "    \n",
    "    fig, axes = plt.subplots(2, 3, figsize=(18, 12))\n",
    "    fig.suptitle('Health Analytics Dashboard 2024', fontsize=20, fontweight='bold', y=0.98)\n",
    "    \n",
    "    categories = health_summary['metric_category'].unique()\n",
    "    \n",
    "    # 1. Monthly Health Trends\n",
    "    ax = axes[0, 0]\n",
    "    for i, cat in enumerate(categories):\n",
    "        monthly = health_summary[health_summary['metric_category'] == cat].groupby('month')['health_score'].mean()\n",
    "        if len(monthly) > 0:\n",
    "            ax.plot(monthly.index, monthly.values, marker='o', linewidth=2, \n",
    "                   label=cat, color=COLORS[i])\n",
    "    ax.set_title('Monthly Health Trends', fontweight='bold')\n",
    "    ax.set_ylabel('Health Score')\n",
    "    ax.legend()\n",
    "    ax.grid(True, alpha=0.3)\n",
    "    \n",
    "    # 2. Weekend vs Weekday\n",
    "    ax = axes[0, 1]\n",
    "    weekend_data, weekday_data, cat_names = [], [], []\n",
    "    for cat in categories:\n",
    "        cat_data = health_summary[health_summary['metric_category'] == cat]\n",
    "        weekend = cat_data[cat_data['is_weekend'] == True]['health_score'].mean()\n",
    "        weekday = cat_data[cat_data['is_weekend'] == False]['health_score'].mean()\n",
    "        if not pd.isna(weekend) and not pd.isna(weekday):\n",
    "            weekend_data.append(weekend)\n",
    "            weekday_data.append(weekday)\n",
    "            cat_names.append(cat)\n",
    "    \n",
    "    if cat_names:\n",
    "        x = np.arange(len(cat_names))\n",
    "        ax.bar(x - 0.2, weekday_data, 0.4, label='Weekday', color=COLORS[0], alpha=0.8)\n",
    "        ax.bar(x + 0.2, weekend_data, 0.4, label='Weekend', color=COLORS[1], alpha=0.8)\n",
    "        ax.set_title('Weekend vs Weekday', fontweight='bold')\n",
    "        ax.set_xticks(x)\n",
    "        ax.set_xticklabels(cat_names)\n",
    "        ax.legend()\n",
    "        ax.grid(True, alpha=0.3, axis='y')\n",
    "    \n",
    "    # 3. Heart Rate Distribution\n",
    "    ax = axes[0, 2]\n",
    "    hr_data = health_summary[health_summary['metric_name'] == 'HeartRate']['avg_value'].dropna()\n",
    "    if len(hr_data) > 0:\n",
    "        ax.hist(hr_data, bins=15, alpha=0.7, color=COLORS[2], edgecolor='black')\n",
    "        ax.axvline(hr_data.mean(), color='red', linestyle='--', linewidth=2, \n",
    "                  label=f'Mean: {hr_data.mean():.0f} bpm')\n",
    "        ax.set_title('Heart Rate Distribution', fontweight='bold')\n",
    "        ax.set_xlabel('Heart Rate (bpm)')\n",
    "        ax.legend()\n",
    "        ax.grid(True, alpha=0.3, axis='y')\n",
    "    else:\n",
    "        ax.text(0.5, 0.5, 'No Heart Rate Data', ha='center', va='center', transform=ax.transAxes)\n",
    "    \n",
    "    # 4. Health Score Distribution by Category\n",
    "    ax = axes[1, 0]\n",
    "    cat_scores = [health_summary[health_summary['metric_category'] == cat]['health_score'].dropna() \n",
    "                  for cat in categories]\n",
    "    cat_scores = [scores for scores in cat_scores if len(scores) > 0]\n",
    "    \n",
    "    if cat_scores:\n",
    "        bp = ax.boxplot(cat_scores, labels=categories[:len(cat_scores)], patch_artist=True)\n",
    "        for patch, color in zip(bp['boxes'], COLORS):\n",
    "            patch.set_facecolor(color)\n",
    "            patch.set_alpha(0.7)\n",
    "        ax.set_title('Score Distribution by Category', fontweight='bold')\n",
    "        ax.set_ylabel('Health Score')\n",
    "        ax.grid(True, alpha=0.3, axis='y')\n",
    "    \n",
    "    # 5. Weekly Activity Trends\n",
    "    ax = axes[1, 1]\n",
    "    activity_data = health_summary[health_summary['metric_category'] == 'Activity'].copy()\n",
    "    if len(activity_data) > 0:\n",
    "        activity_data['week'] = activity_data['activity_date'].dt.isocalendar().week\n",
    "        weekly = activity_data.groupby('week')['health_score'].mean().dropna()\n",
    "        if len(weekly) > 1:\n",
    "            ax.plot(weekly.index, weekly.values, color=COLORS[0], linewidth=2, marker='o')\n",
    "            ax.set_title('Weekly Activity Trends', fontweight='bold')\n",
    "            ax.set_xlabel('Week')\n",
    "            ax.set_ylabel('Health Score')\n",
    "            ax.grid(True, alpha=0.3)\n",
    "        else:\n",
    "            ax.text(0.5, 0.5, 'Insufficient Activity Data', ha='center', va='center', transform=ax.transAxes)\n",
    "    else:\n",
    "        ax.text(0.5, 0.5, 'No Activity Data', ha='center', va='center', transform=ax.transAxes)\n",
    "    \n",
    "    # 6. Summary Stats\n",
    "    ax = axes[1, 2]\n",
    "    ax.axis('off')\n",
    "    \n",
    "    total_days = len(health_summary['activity_date'].unique())\n",
    "    avg_score = health_summary['health_score'].mean()\n",
    "    best_cat = health_summary.groupby('metric_category')['health_score'].mean().idxmax()\n",
    "    hr_avg = health_summary[health_summary['metric_name'] == 'HeartRate']['avg_value'].mean()\n",
    "    \n",
    "    summary = f\"\"\"HEALTH SUMMARY 2024\n",
    "{'='*20}\n",
    "\n",
    "Days Tracked: {total_days}\n",
    "Records: {len(health_summary):,}\n",
    "Avg Score: {avg_score:.1f}/100\n",
    "Best Category: {best_cat}\n",
    "Avg Heart Rate: {hr_avg:.0f} bpm\n",
    "\n",
    "Performance: {'Excellent' if avg_score >= 85 else 'Good' if avg_score >= 75 else 'Fair'}\n",
    "Coverage: {(total_days/365)*100:.0f}% of year\"\"\"\n",
    "    \n",
    "    ax.text(0.05, 0.95, summary, transform=ax.transAxes, fontsize=11, \n",
    "           verticalalignment='top', fontfamily='monospace',\n",
    "           bbox=dict(boxstyle=\"round,pad=0.5\", facecolor='lightgray', alpha=0.8))\n",
    "    \n",
    "    plt.tight_layout()\n",
    "    plt.subplots_adjust(top=0.92)\n",
    "    plt.show()\n",
    "    \n",
    "    print(f\"Dashboard complete! Analyzed {len(health_summary):,} records from {total_days} days.\")\n",
    "\n",
    "else:\n",
    "    print(\"No health data found.\")"
   ]
  },
  {
   "cell_type": "markdown",
   "metadata": {
    "application/vnd.databricks.v1+cell": {
     "cellMetadata": {},
     "inputWidgets": {},
     "nuid": "ed1e2e23-c722-47b7-a80a-9dd39a4088aa",
     "showTitle": false,
     "tableResultSettingsMap": {},
     "title": ""
    }
   },
   "source": [
    "## 🔍 Advanced SQL Analytics on the Gold Layer\n",
    "\n",
    "Demonstrate powerful SQL analytics capabilities on our well-structured Gold layer data.\n"
   ]
  },
  {
   "cell_type": "code",
   "execution_count": 0,
   "metadata": {
    "application/vnd.databricks.v1+cell": {
     "cellMetadata": {
      "byteLimit": 2048000,
      "implicitDf": true,
      "rowLimit": 10000
     },
     "inputWidgets": {},
     "nuid": "e092aa7a-8de5-4c37-bee1-172b2d20554d",
     "showTitle": false,
     "tableResultSettingsMap": {},
     "title": ""
    }
   },
   "outputs": [],
   "source": [
    "%sql\n",
    "-- Executive Health Summary: Key insights at a glance\n",
    "SELECT \n",
    "    '🏥 OVERALL HEALTH REPORT' AS section,\n",
    "    '' AS metric,\n",
    "    '' AS value,\n",
    "    '' AS insight\n",
    "\n",
    "UNION ALL\n",
    "\n",
    "SELECT \n",
    "    'Health Score Overview',\n",
    "    'Overall Health Score',\n",
    "    ROUND(AVG(health_score), 1) || '/100',\n",
    "    CASE \n",
    "        WHEN AVG(health_score) >= 90 THEN '🟢 Excellent - Following medical guidelines'\n",
    "        WHEN AVG(health_score) >= 80 THEN '🟡 Good - Room for minor improvements'\n",
    "        WHEN AVG(health_score) >= 70 THEN '🟠 Fair - Consider lifestyle changes'\n",
    "        ELSE '🔴 Needs attention - Consult healthcare provider'\n",
    "    END\n",
    "FROM health_data.gold.daily_health_summary\n",
    "WHERE activity_date >= DATE_SUB(CURRENT_DATE(), 90)\n",
    "\n",
    "UNION ALL\n",
    "\n",
    "SELECT \n",
    "    'Activity Performance',\n",
    "    'Step Count Performance',\n",
    "    ROUND(AVG(CASE WHEN metric_name = 'StepCount' THEN health_score END), 1) || '/100',\n",
    "    CASE \n",
    "        WHEN AVG(CASE WHEN metric_name = 'StepCount' THEN avg_value END) >= 10000 THEN '🟢 Meeting CDC recommendations (10k+ steps)'\n",
    "        WHEN AVG(CASE WHEN metric_name = 'StepCount' THEN avg_value END) >= 8000 THEN '🟡 Good activity level (8k+ steps)'\n",
    "        WHEN AVG(CASE WHEN metric_name = 'StepCount' THEN avg_value END) >= 6000 THEN '🟠 Moderate activity (6k+ steps)'\n",
    "        ELSE '🔴 Below recommended activity levels'\n",
    "    END\n",
    "FROM health_data.gold.daily_health_summary\n",
    "WHERE metric_name = 'StepCount' AND activity_date >= DATE_SUB(CURRENT_DATE(), 90)\n",
    "\n",
    "UNION ALL\n",
    "\n",
    "SELECT \n",
    "    'Cardiovascular Health',\n",
    "    'Heart Rate Assessment',\n",
    "    ROUND(AVG(CASE WHEN metric_name = 'HeartRate' THEN health_score END), 1) || '/100',\n",
    "    CASE \n",
    "        WHEN AVG(CASE WHEN metric_name = 'HeartRate' THEN avg_value END) BETWEEN 60 AND 80 THEN '🟢 Optimal heart rate (AHA guidelines)'\n",
    "        WHEN AVG(CASE WHEN metric_name = 'HeartRate' THEN avg_value END) BETWEEN 50 AND 100 THEN '🟡 Normal range for your fitness level'\n",
    "        ELSE '🟠 Consider discussing with healthcare provider'\n",
    "    END\n",
    "FROM health_data.gold.daily_health_summary\n",
    "WHERE metric_name = 'HeartRate' AND activity_date >= DATE_SUB(CURRENT_DATE(), 90)\n",
    "\n",
    "UNION ALL\n",
    "\n",
    "SELECT \n",
    "    'Lifestyle Patterns',\n",
    "    'Weekend vs Weekday',\n",
    "    ROUND(\n",
    "        AVG(CASE WHEN is_weekend THEN health_score END) - \n",
    "        AVG(CASE WHEN NOT is_weekend THEN health_score END), 1\n",
    "    ) || ' point difference',\n",
    "    CASE \n",
    "        WHEN AVG(CASE WHEN is_weekend THEN health_score END) > AVG(CASE WHEN NOT is_weekend THEN health_score END) + 2 \n",
    "        THEN '🟢 More active on weekends - good work-life balance'\n",
    "        WHEN AVG(CASE WHEN NOT is_weekend THEN health_score END) > AVG(CASE WHEN is_weekend THEN health_score END) + 2 \n",
    "        THEN '🟡 More active on weekdays - consider weekend activities'\n",
    "        ELSE '🟢 Consistent activity pattern throughout week'\n",
    "    END\n",
    "FROM health_data.gold.daily_health_summary\n",
    "WHERE activity_date >= DATE_SUB(CURRENT_DATE(), 90)\n",
    "\n",
    "UNION ALL\n",
    "\n",
    "SELECT \n",
    "    'Data Quality',\n",
    "    'Tracking Consistency',\n",
    "    COUNT(DISTINCT activity_date) || ' days in last 90',\n",
    "    CASE \n",
    "        WHEN COUNT(DISTINCT activity_date) >= 75 THEN '🟢 Excellent tracking consistency'\n",
    "        WHEN COUNT(DISTINCT activity_date) >= 60 THEN '🟡 Good tracking consistency'\n",
    "        WHEN COUNT(DISTINCT activity_date) >= 30 THEN '🟠 Moderate tracking - room for improvement'\n",
    "        ELSE '🔴 Limited tracking - consider more consistent monitoring'\n",
    "    END\n",
    "FROM health_data.gold.daily_health_summary\n",
    "WHERE activity_date >= DATE_SUB(CURRENT_DATE(), 90)\n",
    "\n",
    "ORDER BY \n",
    "    CASE section \n",
    "        WHEN '🏥 OVERALL HEALTH REPORT' THEN 1\n",
    "        WHEN 'Health Score Overview' THEN 2\n",
    "        WHEN 'Activity Performance' THEN 3\n",
    "        WHEN 'Cardiovascular Health' THEN 4\n",
    "        WHEN 'Lifestyle Patterns' THEN 5\n",
    "        WHEN 'Data Quality' THEN 6\n",
    "    END;"
   ]
  },
  {
   "cell_type": "markdown",
   "metadata": {
    "application/vnd.databricks.v1+cell": {
     "cellMetadata": {},
     "inputWidgets": {},
     "nuid": "abb984ca-c637-4400-be33-d29cba6686ca",
     "showTitle": false,
     "tableResultSettingsMap": {},
     "title": ""
    }
   },
   "source": [
    "## 🎉 Congratulations!\n",
    "\n",
    "You've successfully built:\n",
    "\n",
    "- **🏛️ Unity Catalog Integration**: 3-level namespace with proper governance\n",
    "- **🏗️ Medallion Architecture**: Bronze → Silver → Gold layers with Delta tables\n",
    "- **⚡ Spark SQL**: Powerful transformations and analytics using SQL\n",
    "- **🔺 Delta Lake Features**: Time travel, optimization, schema evolution"
   ]
  },
  {
   "cell_type": "markdown",
   "metadata": {
    "application/vnd.databricks.v1+cell": {
     "cellMetadata": {},
     "inputWidgets": {},
     "nuid": "a44f0319-3e10-45d6-b6a7-f2ae6e152994",
     "showTitle": false,
     "tableResultSettingsMap": {},
     "title": ""
    }
   },
   "source": [
    "## 🏛️ Unity Catalog Management\n",
    "\n",
    "Unity Catalog provides centralized governance and security for your data assets."
   ]
  },
  {
   "cell_type": "code",
   "execution_count": 0,
   "metadata": {
    "application/vnd.databricks.v1+cell": {
     "cellMetadata": {
      "byteLimit": 2048000,
      "implicitDf": true,
      "rowLimit": 10000
     },
     "inputWidgets": {},
     "nuid": "d9a6fd0d-2f68-452f-8d64-225c66cd02e5",
     "showTitle": false,
     "tableResultSettingsMap": {},
     "title": ""
    }
   },
   "outputs": [],
   "source": [
    "%sql\n",
    "-- Creating a view for easier access\n",
    "CREATE OR REPLACE VIEW health_data.gold.vitals_summary AS\n",
    "SELECT\n",
    "    activity_date,\n",
    "    metric_name,\n",
    "    avg_value,\n",
    "    min_value,\n",
    "    max_value,\n",
    "    health_score,\n",
    "    is_weekend\n",
    "FROM health_data.gold.daily_health_summary\n",
    "WHERE metric_category = 'Vitals'"
   ]
  },
  {
   "cell_type": "code",
   "execution_count": 0,
   "metadata": {
    "application/vnd.databricks.v1+cell": {
     "cellMetadata": {
      "byteLimit": 2048000,
      "implicitDf": true,
      "rowLimit": 10000
     },
     "inputWidgets": {},
     "nuid": "fa01d287-0e7d-43c4-b0b7-b2110a862c4d",
     "showTitle": false,
     "tableResultSettingsMap": {},
     "title": ""
    }
   },
   "outputs": [],
   "source": [
    "%sql\n",
    "    -- Example of setting up access control (commented out as this is a tutorial)\n",
    "    -- GRANT SELECT ON TABLE health_data.gold.vitals_summary TO `analysts`\n",
    "    -- GRANT SELECT ON SCHEMA health_data.gold TO `data_scientists`\n",
    "    -- GRANT MODIFY ON SCHEMA health_data.bronze TO `data_engineers`\n",
    "    \n",
    "    -- Just showing these commands for educational purposes\n",
    "    SHOW TABLES IN health_data.gold\n"
   ]
  }
 ],
 "metadata": {
  "application/vnd.databricks.v1+notebook": {
   "computePreferences": {
    "hardware": {
     "accelerator": null,
     "gpuPoolId": null,
     "memory": null
    }
   },
   "dashboards": [],
   "environmentMetadata": {
    "base_environment": "",
    "environment_version": "3"
   },
   "inputWidgetPreferences": null,
   "language": "python",
   "notebookMetadata": {
    "mostRecentlyExecutedCommandWithImplicitDF": {
     "commandId": 6147811869185996,
     "dataframes": [
      "_sqldf"
     ]
    },
    "pythonIndentUnit": 4
   },
   "notebookName": "Health Analytics Demo",
   "widgets": {}
  },
  "language_info": {
   "name": "python"
  }
 },
 "nbformat": 4,
 "nbformat_minor": 0
}
